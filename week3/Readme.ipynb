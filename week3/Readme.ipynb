{
 "cells": [
  {
   "cell_type": "markdown",
   "id": "53d7c076",
   "metadata": {},
   "source": [
    "### **Desafios do HackerRank - Semana 3**"
   ]
  },
  {
   "cell_type": "markdown",
   "id": "577841a4",
   "metadata": {},
   "source": [
    "### **XOR Strings 3**\n",
    "**Objetivo**: Avaliar sua capacidade de manipular strings binárias e aplicar operações bit a bit (bitwise), especificamente a operação de **XOR**, para comparar dois valores binários caractere por caractere.\n",
    "\n",
    "**Habilidade Principal**: Manipulação de strings e aplicação da operação lógica XOR entre pares de caracteres binários.\n",
    "\n",
    "---\n",
    "\n",
    "### **Migratory Birds**\n",
    "**Objetivo**: Avaliar sua capacidade de contar e comparar ocorrências em uma lista, determinando o item mais frequente com base em critérios específicos de desempate.\n",
    "\n",
    "**Habilidade Principal**: Contagem de frequências em arrays, comparação de valores e aplicação de regras de desempate (menor id em caso de empate).\n",
    "\n",
    "---\n",
    "\n",
    "### **Sales by Match**\n",
    "**Objetivo**: Avaliar sua habilidade em identificar padrões e contar pares dentro de uma coleção de elementos, neste caso, meias representadas por cores.\n",
    "\n",
    "**Habilidade Principal**: Agrupamento e contagem de elementos iguais em uma lista para identificar quantos pares podem ser formados.\n",
    "\n",
    "---\n",
    "\n",
    "### **Maximum Perimeter Triangle**  \n",
    "**Objetivo**: Avaliar sua capacidade de identificar combinações de três elementos que satisfaçam a condição de formar um **triângulo não degenerado** com o **maior perímetro possível**, aplicando regras de desempate conforme o enunciado.\n",
    "\n",
    "**Habilidade Principal**: Verificação da desigualdade triangular, ordenação de elementos e escolha de combinação ótima com base em múltiplos critérios (perímetro, maior lado, menor lado).\n",
    "\n",
    "---\n",
    "\n",
    "### **Drawing Book**  \n",
    "**Objetivo**: Avaliar sua capacidade de aplicar lógica matemática para determinar o caminho mais eficiente entre dois pontos em um cenário de viradas de páginas de um livro, considerando a simetria do problema.\n",
    "\n",
    "**Habilidade Principal**: Cálculo com divisões inteiras, comparação de caminhos possíveis (início vs fim) e uso de funções matemáticas para determinar o menor número de operações necessárias.\n",
    "\n",
    "---\n",
    "\n",
    "### **Left Rotation**  \n",
    "**Objetivo**: Avaliar sua habilidade de manipular listas realizando **rotações à esquerda**. O desafio exige deslocar cada elemento da lista para a posição imediatamente anterior, um número específico de vezes, garantindo que os elementos removidos do início sejam adicionados ao final na mesma ordem.  \n",
    "\n",
    "**Habilidade Principal**: Uso de operações de fatia (*slicing*) ou loops para reposicionar elementos, manipulação de índices e compreensão de operações circulares em listas.  \n",
    "\n",
    "---\n",
    "\n",
    "### **Zig Zag Sequence**  \n",
    "**Objetivo**: Avaliar sua habilidade de **manipular listas** para transformar uma sequência de números distintos em uma **sequência zig-zag**. O desafio exige ordenar os elementos, reposicionar o maior número no meio da lista e inverter a segunda metade, garantindo que os números cresçam até o meio e depois decresçam.  \n",
    "\n",
    "**Habilidade Principal**: Ordenação de listas, troca de elementos usando índices, controle de laços `while` para inversão parcial e atenção à lógica de índices para construir padrões específicos em sequências.  \n",
    "\n",
    "---\n",
    "\n",
    "### **Picking Numbers**  \n",
    "**Objetivo**: Avaliar sua capacidade de identificar o **maior subconjunto** de números em um array onde a **diferença absoluta entre quaisquer dois elementos seja menor ou igual a 1**. O desafio consiste em analisar todas as combinações possíveis e encontrar o subconjunto mais longo que atenda ao critério.  \n",
    "\n",
    "**Habilidade Principal**: Uso de contagem de frequências (hashmap ou dicionário), comparação de elementos adjacentes, e lógica para selecionar o subconjunto com o maior tamanho respeitando a diferença máxima permitida.  \n",
    "\n",
    "---\n"
   ]
  }
 ],
 "metadata": {
  "language_info": {
   "name": "python"
  }
 },
 "nbformat": 4,
 "nbformat_minor": 5
}
