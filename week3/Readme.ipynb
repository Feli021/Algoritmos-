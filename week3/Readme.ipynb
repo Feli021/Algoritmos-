{
 "cells": [
  {
   "cell_type": "markdown",
   "id": "53d7c076",
   "metadata": {},
   "source": [
    "### **Desafios do HackerRank - Semana 3**"
   ]
  },
  {
   "cell_type": "markdown",
   "id": "577841a4",
   "metadata": {},
   "source": [
    "### 1. **XOR Strings 3**\n",
    "**Objetivo**: Avaliar sua capacidade de manipular strings binárias e aplicar operações bit a bit (bitwise), especificamente a operação de **XOR**, para comparar dois valores binários caractere por caractere.\n",
    "\n",
    "**Habilidade Principal**: Manipulação de strings e aplicação da operação lógica XOR entre pares de caracteres binários.\n",
    "\n",
    "---\n",
    "\n",
    "### 2. **Migratory Birds**\n",
    "**Objetivo**: Avaliar sua capacidade de contar e comparar ocorrências em uma lista, determinando o item mais frequente com base em critérios específicos de desempate.\n",
    "\n",
    "**Habilidade Principal**: Contagem de frequências em arrays, comparação de valores e aplicação de regras de desempate (menor id em caso de empate).\n",
    "\n",
    "---\n",
    "\n",
    "### 3. **Sales by Match**\n",
    "**Objetivo**: Avaliar sua habilidade em identificar padrões e contar pares dentro de uma coleção de elementos, neste caso, meias representadas por cores.\n",
    "\n",
    "**Habilidade Principal**: Agrupamento e contagem de elementos iguais em uma lista para identificar quantos pares podem ser formados.\n",
    "\n",
    "---\n",
    "\n",
    "### 4. **Maximum Perimeter Triangle**  \n",
    "**Objetivo**: Avaliar sua capacidade de identificar combinações de três elementos que satisfaçam a condição de formar um **triângulo não degenerado** com o **maior perímetro possível**, aplicando regras de desempate conforme o enunciado.\n",
    "\n",
    "**Habilidade Principal**: Verificação da desigualdade triangular, ordenação de elementos e escolha de combinação ótima com base em múltiplos critérios (perímetro, maior lado, menor lado).\n",
    "\n",
    "---\n",
    "\n",
    "### 5. **Drawing Book**  \n",
    "**Objetivo**: Avaliar sua capacidade de aplicar lógica matemática para determinar o caminho mais eficiente entre dois pontos em um cenário de viradas de páginas de um livro, considerando a simetria do problema.\n",
    "\n",
    "**Habilidade Principal**: Cálculo com divisões inteiras, comparação de caminhos possíveis (início vs fim) e uso de funções matemáticas para determinar o menor número de operações necessárias.\n",
    "\n"
   ]
  }
 ],
 "metadata": {
  "language_info": {
   "name": "python"
  }
 },
 "nbformat": 4,
 "nbformat_minor": 5
}
