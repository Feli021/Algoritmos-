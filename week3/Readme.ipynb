{
 "cells": [
  {
   "cell_type": "markdown",
   "id": "53d7c076",
   "metadata": {},
   "source": [
    "### **Desafios do HackerRank - Semana 3**"
   ]
  },
  {
   "cell_type": "markdown",
   "id": "577841a4",
   "metadata": {},
   "source": [
    "### 1. **XOR Strings 3**\n",
    "**Objetivo**: Avaliar sua capacidade de manipular strings binárias e aplicar operações bit a bit (bitwise), especificamente a operação de **XOR**, para comparar dois valores binários caractere por caractere.\n",
    "\n",
    "**Habilidade Principal**: Manipulação de strings e aplicação da operação lógica XOR entre pares de caracteres binários.\n",
    "\n",
    "---\n",
    "### 2. **Migratory Birds**\n",
    "**Objetivo**: Avaliar sua capacidade de contar e comparar ocorrências em uma lista, determinando o item mais frequente com base em critérios específicos de desempate.\n",
    "\n",
    "**Habilidade Principal**: Contagem de frequências em arrays, comparação de valores e aplicação de regras de desempate (menor id em caso de empate).\n",
    "\n",
    "---\n",
    "\n",
    "### 3. **Sales by Match**\n",
    "**Objetivo**: Avaliar sua habilidade em identificar padrões e contar pares dentro de uma coleção de elementos, neste caso, meias representadas por cores.\n",
    "\n",
    "**Habilidade Principal**: Agrupamento e contagem de elementos iguais em uma lista para identificar quantos pares podem ser formados.\n",
    "\n",
    "---"
   ]
  }
 ],
 "metadata": {
  "language_info": {
   "name": "python"
  }
 },
 "nbformat": 4,
 "nbformat_minor": 5
}
