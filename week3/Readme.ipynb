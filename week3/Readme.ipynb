{
 "cells": [
  {
   "cell_type": "markdown",
   "id": "577841a4",
   "metadata": {},
   "source": [
    "### 1. **XOR Strings 3**\n",
    "**Objetivo**: Avaliar sua capacidade de manipular strings binárias e aplicar operações bit a bit (bitwise), especificamente a operação de **XOR**, para comparar dois valores binários caractere por caractere.\n",
    "\n",
    "**Habilidade Principal**: Manipulação de strings e aplicação da operação lógica XOR entre pares de caracteres binários.\n",
    "\n",
    "---\n"
   ]
  }
 ],
 "metadata": {
  "language_info": {
   "name": "python"
  }
 },
 "nbformat": 4,
 "nbformat_minor": 5
}
