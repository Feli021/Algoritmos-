{
 "cells": [
  {
   "cell_type": "markdown",
   "metadata": {},
   "source": [
    "# Desafios do HackerRank - Semana 2\n",
    "\n",
    "Esta pasta contém os desafios resolvidos da Semana 2 do HackerRank. Cada desafio foca em habilidades específicas, com o objetivo de melhorar a compreensão de algoritmos e estruturas de dados.\n",
    "\n",
    "## Desafios e Objetivos\n",
    "\n",
    "### 1. **Sparse Arrays**\n",
    "**Objetivo**: Testar sua capacidade de processar e contar ocorrências de strings de forma eficiente, utilizando estruturas de dados adequadas.\n",
    "\n",
    "**Habilidade Principal**: Manipulação de strings e contagem de ocorrências.\n",
    "\n",
    "---\n",
    "\n",
    "### 2. **Mars Exploration**\n",
    "**Objetivo**: Avaliar sua habilidade em comparar elementos de uma sequência e aplicar lógica condicional para contar as alterações necessárias.\n",
    "\n",
    "**Habilidade Principal**: Lógica condicional e manipulação de sequências.\n",
    "\n",
    "---\n",
    "\n",
    "### 3. **Flipping Bits**\n",
    "**Objetivo**: Testar seu conhecimento sobre operações bitwise e a manipulação de números binários para realizar conversões de inteiros.\n",
    "\n",
    "**Habilidade Principal**: Operações bitwise e manipulação de números binários.\n",
    "\n",
    "---\n",
    "\n",
    "### 4. **Matching Strings**\n",
    "**Objetivo**: Avaliar sua capacidade de usar contadores eficientes para mapear e verificar a quantidade de ocorrências de strings dentro de uma lista de strings.\n",
    "\n",
    "**Habilidade Principal**: Utilização de contadores eficientes (hashmaps).\n",
    "\n",
    "---\n",
    "\n",
    "### 5. **Counting Valleys**\n",
    "**Objetivo**: Avaliar sua habilidade de navegar por sequências de dados e entender conceitos de contagem e avaliação de elevações e descidas.\n",
    "\n",
    "**Habilidade Principal**: Navegação por sequências e análise de contagem de eventos específicos.\n",
    "\n",
    "---\n",
    "\n",
    "### 6. **Counting Sort**\n",
    "**Objetivo**: Testar seu conhecimento sobre o uso de algoritmos de contagem para ordenar elementos de forma eficiente, especialmente quando o número de valores é limitado.\n",
    "\n",
    "**Habilidade Principal**: Algoritmos de ordenação (Counting Sort).\n",
    "\n",
    "---\n",
    "\n",
    "### 7. **Diagonal Difference**\n",
    "**Objetivo**: Avaliar sua capacidade de trabalhar com matrizes e calcular a diferença entre as somas das diagonais principal e secundária de uma matriz quadrada.\n",
    "\n",
    "**Habilidade Principal**: Manipulação de matrizes e cálculos de somas.\n",
    "\n",
    "---\n",
    "\n",
    "### 8. **Grading Students**\n",
    "**Objetivo**: Avaliar sua habilidade em manipular e arredondar valores inteiros com base em condições e critérios específicos, de forma eficiente.\n",
    "\n",
    "**Habilidade Principal**: Arredondamento condicional de valores inteiros.\n",
    "\n",
    "---\n",
    "\n",
    "### 9. **Pangrams**\n",
    "**Objetivo**: Avaliar sua capacidade de analisar strings e verificar se uma frase contém todas as letras do alfabeto inglês, ignorando maiúsculas e minúsculas.\n",
    "\n",
    "**Habilidade Principal**: Manipulação de strings e verificação da presença de todos os caracteres do alfabeto.\n",
    "    \n",
    "---\n"
     "\n",
    "### 10. **Permuting Two Arrays**\n",
    "**Objetivo**:  Avaliar sua capacidade de manipular arrays e aplicar lógica condicional para verificar se é possível permutar duas listas de inteiros de modo que, elemento por elemento, a soma de cada par seja maior ou igual a um valor mínimo especificado.>
    "\n",
    "**Habilidade Principal**: Ordenação estratégica de arrays, comparação de pares de elementos e verificação de condições com base em índices paralelos.>
    "    \n",
    "---\n"

   ]
  },
  {
   "cell_type": "code",
   "execution_count": null,
   "metadata": {
    "vscode": {
     "languageId": "plaintext"
    }
   },
   "outputs": [],
   "source": []
  }
 ],
 "metadata": {
  "language_info": {
   "name": "python"
  }
 },
 "nbformat": 4,
 "nbformat_minor": 2
}
